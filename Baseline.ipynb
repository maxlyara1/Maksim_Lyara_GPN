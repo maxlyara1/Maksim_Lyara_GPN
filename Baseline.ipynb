{
  "cells": [
    {
      "cell_type": "code",
      "execution_count": 1,
      "metadata": {
        "id": "Vy6aTXnUinaf"
      },
      "outputs": [],
      "source": [
        "import pandas as pd"
      ]
    },
    {
      "cell_type": "code",
      "execution_count": 2,
      "metadata": {
        "id": "aK5UV0WxisCz"
      },
      "outputs": [],
      "source": [
        "df = pd.read_parquet(\"transaction_df.parquet\")"
      ]
    },
    {
      "cell_type": "code",
      "execution_count": 3,
      "metadata": {
        "colab": {
          "base_uri": "https://localhost:8080/",
          "height": 206
        },
        "id": "IHkcB4DgjFrK",
        "outputId": "4fb6a827-2f99-4a6d-9abf-4a7e19b6889a"
      },
      "outputs": [
        {
          "data": {
            "text/html": [
              "<div>\n",
              "<style scoped>\n",
              "    .dataframe tbody tr th:only-of-type {\n",
              "        vertical-align: middle;\n",
              "    }\n",
              "\n",
              "    .dataframe tbody tr th {\n",
              "        vertical-align: top;\n",
              "    }\n",
              "\n",
              "    .dataframe thead th {\n",
              "        text-align: right;\n",
              "    }\n",
              "</style>\n",
              "<table border=\"1\" class=\"dataframe\">\n",
              "  <thead>\n",
              "    <tr style=\"text-align: right;\">\n",
              "      <th></th>\n",
              "      <th>product</th>\n",
              "      <th>price</th>\n",
              "      <th>amount</th>\n",
              "      <th>place</th>\n",
              "      <th>datetime</th>\n",
              "    </tr>\n",
              "  </thead>\n",
              "  <tbody>\n",
              "    <tr>\n",
              "      <th>0</th>\n",
              "      <td>Целебные травы</td>\n",
              "      <td>3.9</td>\n",
              "      <td>1.242125</td>\n",
              "      <td>Анор Лондо</td>\n",
              "      <td>2216-01-02 16:28:00</td>\n",
              "    </tr>\n",
              "    <tr>\n",
              "      <th>1</th>\n",
              "      <td>Целебные травы</td>\n",
              "      <td>3.9</td>\n",
              "      <td>-0.079689</td>\n",
              "      <td>Анор Лондо</td>\n",
              "      <td>2216-01-02 16:21:00</td>\n",
              "    </tr>\n",
              "    <tr>\n",
              "      <th>2</th>\n",
              "      <td>Целебные травы</td>\n",
              "      <td>3.9</td>\n",
              "      <td>0.882450</td>\n",
              "      <td>Анор Лондо</td>\n",
              "      <td>2216-01-02 03:03:00</td>\n",
              "    </tr>\n",
              "    <tr>\n",
              "      <th>3</th>\n",
              "      <td>Целебные травы</td>\n",
              "      <td>3.9</td>\n",
              "      <td>0.621377</td>\n",
              "      <td>Анор Лондо</td>\n",
              "      <td>2216-01-02 03:12:00</td>\n",
              "    </tr>\n",
              "    <tr>\n",
              "      <th>4</th>\n",
              "      <td>Целебные травы</td>\n",
              "      <td>3.9</td>\n",
              "      <td>1.367161</td>\n",
              "      <td>Анор Лондо</td>\n",
              "      <td>2216-01-02 05:33:00</td>\n",
              "    </tr>\n",
              "  </tbody>\n",
              "</table>\n",
              "</div>"
            ],
            "text/plain": [
              "          product  price    amount       place            datetime\n",
              "0  Целебные травы    3.9  1.242125  Анор Лондо 2216-01-02 16:28:00\n",
              "1  Целебные травы    3.9 -0.079689  Анор Лондо 2216-01-02 16:21:00\n",
              "2  Целебные травы    3.9  0.882450  Анор Лондо 2216-01-02 03:03:00\n",
              "3  Целебные травы    3.9  0.621377  Анор Лондо 2216-01-02 03:12:00\n",
              "4  Целебные травы    3.9  1.367161  Анор Лондо 2216-01-02 05:33:00"
            ]
          },
          "execution_count": 3,
          "metadata": {},
          "output_type": "execute_result"
        }
      ],
      "source": [
        "df.head()"
      ]
    },
    {
      "cell_type": "code",
      "execution_count": 4,
      "metadata": {
        "id": "LTSy0wV4lJEb"
      },
      "outputs": [],
      "source": [
        "# В качестве baseline - рекомендуем последнюю известную цену на каждый товар в каждом из городов."
      ]
    },
    {
      "cell_type": "code",
      "execution_count": 5,
      "metadata": {
        "id": "d-7_B5Q_l4F_"
      },
      "outputs": [],
      "source": [
        "df_baseline = []\n",
        "for (place, product), place_product_df in df.groupby([\"place\", \"product\"]):\n",
        "    temp_df = pd.DataFrame(range(1, 91), columns=[\"day_num\"])\n",
        "    temp_df[\"place\"] = place\n",
        "    temp_df[\"product\"] = product\n",
        "    temp_df[\"price\"] = place_product_df.sort_values(\"datetime\").iloc[-1][\"price\"]\n",
        "    df_baseline.append(temp_df)\n",
        "df_baseline = pd.concat(df_baseline)"
      ]
    },
    {
      "cell_type": "code",
      "execution_count": 6,
      "metadata": {
        "colab": {
          "base_uri": "https://localhost:8080/",
          "height": 424
        },
        "id": "eMf88k5knUlI",
        "outputId": "b6bb44b9-893d-4d86-80f7-03d6b1249e7e"
      },
      "outputs": [
        {
          "data": {
            "text/html": [
              "<div>\n",
              "<style scoped>\n",
              "    .dataframe tbody tr th:only-of-type {\n",
              "        vertical-align: middle;\n",
              "    }\n",
              "\n",
              "    .dataframe tbody tr th {\n",
              "        vertical-align: top;\n",
              "    }\n",
              "\n",
              "    .dataframe thead th {\n",
              "        text-align: right;\n",
              "    }\n",
              "</style>\n",
              "<table border=\"1\" class=\"dataframe\">\n",
              "  <thead>\n",
              "    <tr style=\"text-align: right;\">\n",
              "      <th></th>\n",
              "      <th>day_num</th>\n",
              "      <th>place</th>\n",
              "      <th>product</th>\n",
              "      <th>price</th>\n",
              "    </tr>\n",
              "  </thead>\n",
              "  <tbody>\n",
              "    <tr>\n",
              "      <th>0</th>\n",
              "      <td>1</td>\n",
              "      <td>Анор Лондо</td>\n",
              "      <td>Целебные травы</td>\n",
              "      <td>13.63</td>\n",
              "    </tr>\n",
              "    <tr>\n",
              "      <th>1</th>\n",
              "      <td>2</td>\n",
              "      <td>Анор Лондо</td>\n",
              "      <td>Целебные травы</td>\n",
              "      <td>13.63</td>\n",
              "    </tr>\n",
              "    <tr>\n",
              "      <th>2</th>\n",
              "      <td>3</td>\n",
              "      <td>Анор Лондо</td>\n",
              "      <td>Целебные травы</td>\n",
              "      <td>13.63</td>\n",
              "    </tr>\n",
              "    <tr>\n",
              "      <th>3</th>\n",
              "      <td>4</td>\n",
              "      <td>Анор Лондо</td>\n",
              "      <td>Целебные травы</td>\n",
              "      <td>13.63</td>\n",
              "    </tr>\n",
              "    <tr>\n",
              "      <th>4</th>\n",
              "      <td>5</td>\n",
              "      <td>Анор Лондо</td>\n",
              "      <td>Целебные травы</td>\n",
              "      <td>13.63</td>\n",
              "    </tr>\n",
              "    <tr>\n",
              "      <th>...</th>\n",
              "      <td>...</td>\n",
              "      <td>...</td>\n",
              "      <td>...</td>\n",
              "      <td>...</td>\n",
              "    </tr>\n",
              "    <tr>\n",
              "      <th>85</th>\n",
              "      <td>86</td>\n",
              "      <td>Фалькония</td>\n",
              "      <td>Эстус</td>\n",
              "      <td>9.28</td>\n",
              "    </tr>\n",
              "    <tr>\n",
              "      <th>86</th>\n",
              "      <td>87</td>\n",
              "      <td>Фалькония</td>\n",
              "      <td>Эстус</td>\n",
              "      <td>9.28</td>\n",
              "    </tr>\n",
              "    <tr>\n",
              "      <th>87</th>\n",
              "      <td>88</td>\n",
              "      <td>Фалькония</td>\n",
              "      <td>Эстус</td>\n",
              "      <td>9.28</td>\n",
              "    </tr>\n",
              "    <tr>\n",
              "      <th>88</th>\n",
              "      <td>89</td>\n",
              "      <td>Фалькония</td>\n",
              "      <td>Эстус</td>\n",
              "      <td>9.28</td>\n",
              "    </tr>\n",
              "    <tr>\n",
              "      <th>89</th>\n",
              "      <td>90</td>\n",
              "      <td>Фалькония</td>\n",
              "      <td>Эстус</td>\n",
              "      <td>9.28</td>\n",
              "    </tr>\n",
              "  </tbody>\n",
              "</table>\n",
              "<p>1350 rows × 4 columns</p>\n",
              "</div>"
            ],
            "text/plain": [
              "    day_num       place         product  price\n",
              "0         1  Анор Лондо  Целебные травы  13.63\n",
              "1         2  Анор Лондо  Целебные травы  13.63\n",
              "2         3  Анор Лондо  Целебные травы  13.63\n",
              "3         4  Анор Лондо  Целебные травы  13.63\n",
              "4         5  Анор Лондо  Целебные травы  13.63\n",
              "..      ...         ...             ...    ...\n",
              "85       86   Фалькония           Эстус   9.28\n",
              "86       87   Фалькония           Эстус   9.28\n",
              "87       88   Фалькония           Эстус   9.28\n",
              "88       89   Фалькония           Эстус   9.28\n",
              "89       90   Фалькония           Эстус   9.28\n",
              "\n",
              "[1350 rows x 4 columns]"
            ]
          },
          "execution_count": 6,
          "metadata": {},
          "output_type": "execute_result"
        }
      ],
      "source": [
        "df_baseline"
      ]
    },
    {
      "cell_type": "code",
      "execution_count": 7,
      "metadata": {
        "id": "bz5sjkeSnXKy"
      },
      "outputs": [],
      "source": [
        "df_baseline.to_parquet(\"df_baseline.parquet\")"
      ]
    },
    {
      "cell_type": "code",
      "execution_count": null,
      "metadata": {
        "id": "FwY6lPEyn5I7"
      },
      "outputs": [],
      "source": []
    }
  ],
  "metadata": {
    "colab": {
      "provenance": []
    },
    "kernelspec": {
      "display_name": "Python 3",
      "name": "python3"
    },
    "language_info": {
      "codemirror_mode": {
        "name": "ipython",
        "version": 3
      },
      "file_extension": ".py",
      "mimetype": "text/x-python",
      "name": "python",
      "nbconvert_exporter": "python",
      "pygments_lexer": "ipython3",
      "version": "3.10.9"
    }
  },
  "nbformat": 4,
  "nbformat_minor": 0
}
